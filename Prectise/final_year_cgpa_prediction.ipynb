{
 "cells": [
  {
   "cell_type": "markdown",
   "id": "872619ad-7759-4e7e-a36d-248835262344",
   "metadata": {
    "jp-MarkdownHeadingCollapsed": true
   },
   "source": [
    "### Import the libraries"
   ]
  },
  {
   "cell_type": "code",
   "execution_count": 2,
   "id": "1ce75f8b-9db2-421d-b365-7f22c520f8da",
   "metadata": {},
   "outputs": [],
   "source": [
    "import numpy as np\n",
    "import pandas as pd\n",
    "import matplotlib.pyplot as plt\n",
    "import seaborn as sns\n",
    "\n",
    "sns.set()"
   ]
  },
  {
   "cell_type": "markdown",
   "id": "11fa399e-3f77-422a-88f6-1e50291ef38f",
   "metadata": {
    "jp-MarkdownHeadingCollapsed": true
   },
   "source": [
    "### Import the dataset"
   ]
  },
  {
   "cell_type": "code",
   "execution_count": 4,
   "id": "b22c2d5a-cb6a-420c-93f6-a2fc08823f2a",
   "metadata": {},
   "outputs": [],
   "source": [
    "dataset = pd.read_csv(\"../datasets/practise/sat-gpa.csv\")\n",
    "\n",
    "x = dataset.iloc[:, :5].values\n",
    "y = dataset.iloc[:, -1].values"
   ]
  },
  {
   "cell_type": "markdown",
   "id": "6e821689-7664-445a-9178-a3f7c6464e44",
   "metadata": {
    "jp-MarkdownHeadingCollapsed": true
   },
   "source": [
    "### Splitting dataset to train set and test set"
   ]
  },
  {
   "cell_type": "code",
   "execution_count": 28,
   "id": "0e85db70-b9b4-4983-bea5-ca48e1d02581",
   "metadata": {},
   "outputs": [
    {
     "name": "stdout",
     "output_type": "stream",
     "text": [
      "(800, 5)\n",
      "(800,)\n"
     ]
    }
   ],
   "source": [
    "from sklearn.model_selection import train_test_split\n",
    "\n",
    "x_train, x_test, y_train, y_test = train_test_split(x, y, test_size= 0.2, random_state = 0)\n",
    "\n",
    "print(x_train.shape)\n",
    "print(y_train.shape)"
   ]
  },
  {
   "cell_type": "markdown",
   "id": "3a1dec33-9350-4cbf-913c-cc2a9e3f5f20",
   "metadata": {
    "jp-MarkdownHeadingCollapsed": true
   },
   "source": [
    "### Training the Simple Linear Reression Model on Test set"
   ]
  },
  {
   "cell_type": "code",
   "execution_count": 26,
   "id": "7044c064-a472-4ab0-bb83-cbb23ae96f6c",
   "metadata": {},
   "outputs": [
    {
     "data": {
      "text/html": [
       "<style>#sk-container-id-2 {color: black;}#sk-container-id-2 pre{padding: 0;}#sk-container-id-2 div.sk-toggleable {background-color: white;}#sk-container-id-2 label.sk-toggleable__label {cursor: pointer;display: block;width: 100%;margin-bottom: 0;padding: 0.3em;box-sizing: border-box;text-align: center;}#sk-container-id-2 label.sk-toggleable__label-arrow:before {content: \"▸\";float: left;margin-right: 0.25em;color: #696969;}#sk-container-id-2 label.sk-toggleable__label-arrow:hover:before {color: black;}#sk-container-id-2 div.sk-estimator:hover label.sk-toggleable__label-arrow:before {color: black;}#sk-container-id-2 div.sk-toggleable__content {max-height: 0;max-width: 0;overflow: hidden;text-align: left;background-color: #f0f8ff;}#sk-container-id-2 div.sk-toggleable__content pre {margin: 0.2em;color: black;border-radius: 0.25em;background-color: #f0f8ff;}#sk-container-id-2 input.sk-toggleable__control:checked~div.sk-toggleable__content {max-height: 200px;max-width: 100%;overflow: auto;}#sk-container-id-2 input.sk-toggleable__control:checked~label.sk-toggleable__label-arrow:before {content: \"▾\";}#sk-container-id-2 div.sk-estimator input.sk-toggleable__control:checked~label.sk-toggleable__label {background-color: #d4ebff;}#sk-container-id-2 div.sk-label input.sk-toggleable__control:checked~label.sk-toggleable__label {background-color: #d4ebff;}#sk-container-id-2 input.sk-hidden--visually {border: 0;clip: rect(1px 1px 1px 1px);clip: rect(1px, 1px, 1px, 1px);height: 1px;margin: -1px;overflow: hidden;padding: 0;position: absolute;width: 1px;}#sk-container-id-2 div.sk-estimator {font-family: monospace;background-color: #f0f8ff;border: 1px dotted black;border-radius: 0.25em;box-sizing: border-box;margin-bottom: 0.5em;}#sk-container-id-2 div.sk-estimator:hover {background-color: #d4ebff;}#sk-container-id-2 div.sk-parallel-item::after {content: \"\";width: 100%;border-bottom: 1px solid gray;flex-grow: 1;}#sk-container-id-2 div.sk-label:hover label.sk-toggleable__label {background-color: #d4ebff;}#sk-container-id-2 div.sk-serial::before {content: \"\";position: absolute;border-left: 1px solid gray;box-sizing: border-box;top: 0;bottom: 0;left: 50%;z-index: 0;}#sk-container-id-2 div.sk-serial {display: flex;flex-direction: column;align-items: center;background-color: white;padding-right: 0.2em;padding-left: 0.2em;position: relative;}#sk-container-id-2 div.sk-item {position: relative;z-index: 1;}#sk-container-id-2 div.sk-parallel {display: flex;align-items: stretch;justify-content: center;background-color: white;position: relative;}#sk-container-id-2 div.sk-item::before, #sk-container-id-2 div.sk-parallel-item::before {content: \"\";position: absolute;border-left: 1px solid gray;box-sizing: border-box;top: 0;bottom: 0;left: 50%;z-index: -1;}#sk-container-id-2 div.sk-parallel-item {display: flex;flex-direction: column;z-index: 1;position: relative;background-color: white;}#sk-container-id-2 div.sk-parallel-item:first-child::after {align-self: flex-end;width: 50%;}#sk-container-id-2 div.sk-parallel-item:last-child::after {align-self: flex-start;width: 50%;}#sk-container-id-2 div.sk-parallel-item:only-child::after {width: 0;}#sk-container-id-2 div.sk-dashed-wrapped {border: 1px dashed gray;margin: 0 0.4em 0.5em 0.4em;box-sizing: border-box;padding-bottom: 0.4em;background-color: white;}#sk-container-id-2 div.sk-label label {font-family: monospace;font-weight: bold;display: inline-block;line-height: 1.2em;}#sk-container-id-2 div.sk-label-container {text-align: center;}#sk-container-id-2 div.sk-container {/* jupyter's `normalize.less` sets `[hidden] { display: none; }` but bootstrap.min.css set `[hidden] { display: none !important; }` so we also need the `!important` here to be able to override the default hidden behavior on the sphinx rendered scikit-learn.org. See: https://github.com/scikit-learn/scikit-learn/issues/21755 */display: inline-block !important;position: relative;}#sk-container-id-2 div.sk-text-repr-fallback {display: none;}</style><div id=\"sk-container-id-2\" class=\"sk-top-container\"><div class=\"sk-text-repr-fallback\"><pre>LinearRegression()</pre><b>In a Jupyter environment, please rerun this cell to show the HTML representation or trust the notebook. <br />On GitHub, the HTML representation is unable to render, please try loading this page with nbviewer.org.</b></div><div class=\"sk-container\" hidden><div class=\"sk-item\"><div class=\"sk-estimator sk-toggleable\"><input class=\"sk-toggleable__control sk-hidden--visually\" id=\"sk-estimator-id-2\" type=\"checkbox\" checked><label for=\"sk-estimator-id-2\" class=\"sk-toggleable__label sk-toggleable__label-arrow\">LinearRegression</label><div class=\"sk-toggleable__content\"><pre>LinearRegression()</pre></div></div></div></div></div>"
      ],
      "text/plain": [
       "LinearRegression()"
      ]
     },
     "execution_count": 26,
     "metadata": {},
     "output_type": "execute_result"
    }
   ],
   "source": [
    "from sklearn.linear_model import LinearRegression\n",
    "\n",
    "\n",
    "lin_reg = LinearRegression()\n",
    "lin_reg.fit(x_train, y_train)"
   ]
  },
  {
   "cell_type": "markdown",
   "id": "a1aae044-b149-4a95-8209-82e5c613d7ef",
   "metadata": {
    "jp-MarkdownHeadingCollapsed": true
   },
   "source": [
    "### Predicting the test set result"
   ]
  },
  {
   "cell_type": "code",
   "execution_count": 24,
   "id": "3bb29341-cbfa-4ae4-a2a1-71b21cf24dfc",
   "metadata": {},
   "outputs": [
    {
     "name": "stdout",
     "output_type": "stream",
     "text": [
      "[[2.45 2.4 ]\n",
      " [2.76 2.13]\n",
      " [2.39 2.72]\n",
      " [1.97 1.87]\n",
      " [1.41 3.12]\n",
      " [2.3  2.45]\n",
      " [1.85 0.87]\n",
      " [2.79 2.67]\n",
      " [2.07 1.79]\n",
      " [2.18 2.29]\n",
      " [2.58 2.35]\n",
      " [2.83 2.44]\n",
      " [2.13 2.98]\n",
      " [3.24 3.37]\n",
      " [2.   3.4 ]\n",
      " [2.92 3.13]\n",
      " [3.02 2.43]\n",
      " [2.18 2.  ]\n",
      " [2.82 3.02]\n",
      " [2.81 2.95]\n",
      " [3.28 3.48]\n",
      " [2.29 2.71]\n",
      " [2.01 2.67]\n",
      " [1.99 2.24]\n",
      " [2.27 2.15]\n",
      " [2.19 2.1 ]\n",
      " [1.87 2.73]\n",
      " [2.08 1.86]\n",
      " [2.06 2.52]\n",
      " [3.27 3.33]\n",
      " [2.77 3.31]\n",
      " [2.51 2.61]\n",
      " [2.3  1.69]\n",
      " [2.67 1.8 ]\n",
      " [2.9  3.16]\n",
      " [1.97 1.74]\n",
      " [2.2  2.84]\n",
      " [2.08 2.19]\n",
      " [3.04 3.03]\n",
      " [2.27 2.37]\n",
      " [2.6  2.69]\n",
      " [2.52 1.5 ]\n",
      " [2.62 2.56]\n",
      " [3.01 2.88]\n",
      " [1.67 1.71]\n",
      " [2.47 2.49]\n",
      " [2.72 2.66]\n",
      " [2.46 1.  ]\n",
      " [2.85 2.85]\n",
      " [2.93 1.82]\n",
      " [2.07 2.26]\n",
      " [2.41 3.24]\n",
      " [2.61 1.4 ]\n",
      " [2.46 2.49]\n",
      " [2.24 2.49]\n",
      " [2.79 2.09]\n",
      " [2.85 2.54]\n",
      " [2.68 2.35]\n",
      " [2.11 1.72]\n",
      " [2.58 3.22]\n",
      " [2.25 1.95]\n",
      " [1.88 2.53]\n",
      " [3.02 3.08]\n",
      " [1.47 0.82]\n",
      " [2.93 4.  ]\n",
      " [2.37 2.53]\n",
      " [2.38 1.56]\n",
      " [2.91 3.62]\n",
      " [2.71 3.19]\n",
      " [2.53 1.71]\n",
      " [1.95 2.28]\n",
      " [2.56 2.4 ]\n",
      " [1.84 1.24]\n",
      " [2.44 1.63]\n",
      " [1.95 2.31]\n",
      " [3.17 3.67]\n",
      " [2.54 1.95]\n",
      " [2.14 1.62]\n",
      " [2.84 3.6 ]\n",
      " [2.19 1.83]\n",
      " [3.43 3.94]\n",
      " [1.96 1.42]\n",
      " [2.1  1.73]\n",
      " [1.99 1.36]\n",
      " [2.41 2.48]\n",
      " [2.04 2.58]\n",
      " [2.73 3.  ]\n",
      " [2.55 2.24]\n",
      " [2.33 2.06]\n",
      " [2.06 1.93]\n",
      " [3.06 2.37]\n",
      " [2.05 0.52]\n",
      " [2.61 2.46]\n",
      " [2.55 0.48]\n",
      " [2.14 1.97]\n",
      " [1.94 1.51]\n",
      " [2.63 2.74]\n",
      " [2.49 2.28]\n",
      " [2.48 1.95]\n",
      " [2.94 1.44]\n",
      " [2.64 3.06]\n",
      " [2.9  3.59]\n",
      " [2.92 3.24]\n",
      " [2.78 2.28]\n",
      " [2.73 3.38]\n",
      " [2.56 3.35]\n",
      " [2.01 2.54]\n",
      " [2.66 3.8 ]\n",
      " [2.13 1.83]\n",
      " [2.07 2.21]\n",
      " [2.35 1.17]\n",
      " [2.86 3.6 ]\n",
      " [2.26 2.24]\n",
      " [1.85 2.04]\n",
      " [1.84 1.43]\n",
      " [2.84 3.69]\n",
      " [2.2  2.92]\n",
      " [2.97 3.78]\n",
      " [2.49 1.  ]\n",
      " [1.83 1.37]\n",
      " [2.53 2.69]\n",
      " [2.34 2.8 ]\n",
      " [2.87 3.3 ]\n",
      " [3.03 2.6 ]\n",
      " [2.12 1.91]\n",
      " [3.08 2.65]\n",
      " [2.52 2.48]\n",
      " [2.68 3.2 ]\n",
      " [2.57 2.96]\n",
      " [2.79 2.77]\n",
      " [1.6  1.77]\n",
      " [2.05 1.78]\n",
      " [2.72 2.6 ]\n",
      " [2.32 2.48]\n",
      " [3.03 2.38]\n",
      " [2.01 2.4 ]\n",
      " [2.07 3.04]\n",
      " [3.61 3.82]\n",
      " [2.91 3.34]\n",
      " [1.97 2.04]\n",
      " [2.54 2.98]\n",
      " [2.06 1.8 ]\n",
      " [1.91 2.14]\n",
      " [3.05 3.35]\n",
      " [2.54 3.23]\n",
      " [1.86 1.72]\n",
      " [2.83 2.37]\n",
      " [2.7  3.22]\n",
      " [2.81 2.78]\n",
      " [2.52 3.05]\n",
      " [3.09 3.79]\n",
      " [3.03 3.69]\n",
      " [1.8  1.76]\n",
      " [2.44 2.9 ]\n",
      " [2.65 2.38]\n",
      " [2.95 3.4 ]\n",
      " [1.87 1.52]\n",
      " [2.39 2.59]\n",
      " [3.38 3.18]\n",
      " [2.64 2.  ]\n",
      " [2.   1.66]\n",
      " [2.62 1.98]\n",
      " [2.33 2.63]\n",
      " [2.63 2.63]\n",
      " [2.34 2.35]\n",
      " [2.31 2.85]\n",
      " [2.37 2.24]\n",
      " [3.27 3.83]\n",
      " [3.3  3.44]\n",
      " [2.11 2.71]\n",
      " [1.87 3.07]\n",
      " [1.99 1.98]\n",
      " [3.27 3.82]\n",
      " [2.54 3.22]\n",
      " [2.85 3.17]\n",
      " [2.61 2.35]\n",
      " [2.12 1.52]\n",
      " [2.11 2.21]\n",
      " [2.29 2.27]\n",
      " [3.15 3.66]\n",
      " [2.08 3.19]\n",
      " [1.96 2.38]\n",
      " [2.73 2.17]\n",
      " [2.1  2.56]\n",
      " [3.02 2.98]\n",
      " [2.81 2.43]\n",
      " [1.76 2.18]\n",
      " [2.86 2.65]\n",
      " [2.05 1.87]\n",
      " [1.65 1.18]\n",
      " [2.16 2.28]\n",
      " [1.81 2.24]\n",
      " [2.   1.37]\n",
      " [3.1  2.91]\n",
      " [3.36 3.41]\n",
      " [1.85 2.17]\n",
      " [3.11 3.51]\n",
      " [3.22 2.86]\n",
      " [2.09 1.63]\n",
      " [2.66 3.06]]\n"
     ]
    }
   ],
   "source": [
    "y_pred = lin_reg.predict(x_test)\n",
    "\n",
    "np.set_printoptions(precision=2)\n",
    "print(np.concatenate((y_pred.reshape(len(y_pred), 1), y_test.reshape(len(y_test), 1)), 1))"
   ]
  },
  {
   "cell_type": "code",
   "execution_count": 14,
   "id": "ece0e239-23da-44b4-b298-b35e9cd57218",
   "metadata": {},
   "outputs": [
    {
     "ename": "ValueError",
     "evalue": "x and y must be the same size",
     "output_type": "error",
     "traceback": [
      "\u001b[1;31m---------------------------------------------------------------------------\u001b[0m",
      "\u001b[1;31mValueError\u001b[0m                                Traceback (most recent call last)",
      "Cell \u001b[1;32mIn[14], line 1\u001b[0m\n\u001b[1;32m----> 1\u001b[0m plt\u001b[38;5;241m.\u001b[39mscatter(x_train, y_train ,color\u001b[38;5;241m=\u001b[39m\u001b[38;5;124m\"\u001b[39m\u001b[38;5;124mred\u001b[39m\u001b[38;5;124m\"\u001b[39m)\n\u001b[0;32m      2\u001b[0m plt\u001b[38;5;241m.\u001b[39mplot(x_train, lin_reg\u001b[38;5;241m.\u001b[39mpredict(x_train), color\u001b[38;5;241m=\u001b[39m\u001b[38;5;124m\"\u001b[39m\u001b[38;5;124mblue\u001b[39m\u001b[38;5;124m\"\u001b[39m)\n\u001b[0;32m      3\u001b[0m plt\u001b[38;5;241m.\u001b[39mtitle(\u001b[38;5;124m\"\u001b[39m\u001b[38;5;124mSAT vs Final Year CGPA\u001b[39m\u001b[38;5;124m\"\u001b[39m)\n",
      "File \u001b[1;32m~\\anaconda3\\Lib\\site-packages\\matplotlib\\pyplot.py:3903\u001b[0m, in \u001b[0;36mscatter\u001b[1;34m(x, y, s, c, marker, cmap, norm, vmin, vmax, alpha, linewidths, edgecolors, plotnonfinite, data, **kwargs)\u001b[0m\n\u001b[0;32m   3884\u001b[0m \u001b[38;5;129m@_copy_docstring_and_deprecators\u001b[39m(Axes\u001b[38;5;241m.\u001b[39mscatter)\n\u001b[0;32m   3885\u001b[0m \u001b[38;5;28;01mdef\u001b[39;00m \u001b[38;5;21mscatter\u001b[39m(\n\u001b[0;32m   3886\u001b[0m     x: \u001b[38;5;28mfloat\u001b[39m \u001b[38;5;241m|\u001b[39m ArrayLike,\n\u001b[1;32m   (...)\u001b[0m\n\u001b[0;32m   3901\u001b[0m     \u001b[38;5;241m*\u001b[39m\u001b[38;5;241m*\u001b[39mkwargs,\n\u001b[0;32m   3902\u001b[0m ) \u001b[38;5;241m-\u001b[39m\u001b[38;5;241m>\u001b[39m PathCollection:\n\u001b[1;32m-> 3903\u001b[0m     __ret \u001b[38;5;241m=\u001b[39m gca()\u001b[38;5;241m.\u001b[39mscatter(\n\u001b[0;32m   3904\u001b[0m         x,\n\u001b[0;32m   3905\u001b[0m         y,\n\u001b[0;32m   3906\u001b[0m         s\u001b[38;5;241m=\u001b[39ms,\n\u001b[0;32m   3907\u001b[0m         c\u001b[38;5;241m=\u001b[39mc,\n\u001b[0;32m   3908\u001b[0m         marker\u001b[38;5;241m=\u001b[39mmarker,\n\u001b[0;32m   3909\u001b[0m         cmap\u001b[38;5;241m=\u001b[39mcmap,\n\u001b[0;32m   3910\u001b[0m         norm\u001b[38;5;241m=\u001b[39mnorm,\n\u001b[0;32m   3911\u001b[0m         vmin\u001b[38;5;241m=\u001b[39mvmin,\n\u001b[0;32m   3912\u001b[0m         vmax\u001b[38;5;241m=\u001b[39mvmax,\n\u001b[0;32m   3913\u001b[0m         alpha\u001b[38;5;241m=\u001b[39malpha,\n\u001b[0;32m   3914\u001b[0m         linewidths\u001b[38;5;241m=\u001b[39mlinewidths,\n\u001b[0;32m   3915\u001b[0m         edgecolors\u001b[38;5;241m=\u001b[39medgecolors,\n\u001b[0;32m   3916\u001b[0m         plotnonfinite\u001b[38;5;241m=\u001b[39mplotnonfinite,\n\u001b[0;32m   3917\u001b[0m         \u001b[38;5;241m*\u001b[39m\u001b[38;5;241m*\u001b[39m({\u001b[38;5;124m\"\u001b[39m\u001b[38;5;124mdata\u001b[39m\u001b[38;5;124m\"\u001b[39m: data} \u001b[38;5;28;01mif\u001b[39;00m data \u001b[38;5;129;01mis\u001b[39;00m \u001b[38;5;129;01mnot\u001b[39;00m \u001b[38;5;28;01mNone\u001b[39;00m \u001b[38;5;28;01melse\u001b[39;00m {}),\n\u001b[0;32m   3918\u001b[0m         \u001b[38;5;241m*\u001b[39m\u001b[38;5;241m*\u001b[39mkwargs,\n\u001b[0;32m   3919\u001b[0m     )\n\u001b[0;32m   3920\u001b[0m     sci(__ret)\n\u001b[0;32m   3921\u001b[0m     \u001b[38;5;28;01mreturn\u001b[39;00m __ret\n",
      "File \u001b[1;32m~\\anaconda3\\Lib\\site-packages\\matplotlib\\__init__.py:1473\u001b[0m, in \u001b[0;36m_preprocess_data.<locals>.inner\u001b[1;34m(ax, data, *args, **kwargs)\u001b[0m\n\u001b[0;32m   1470\u001b[0m \u001b[38;5;129m@functools\u001b[39m\u001b[38;5;241m.\u001b[39mwraps(func)\n\u001b[0;32m   1471\u001b[0m \u001b[38;5;28;01mdef\u001b[39;00m \u001b[38;5;21minner\u001b[39m(ax, \u001b[38;5;241m*\u001b[39margs, data\u001b[38;5;241m=\u001b[39m\u001b[38;5;28;01mNone\u001b[39;00m, \u001b[38;5;241m*\u001b[39m\u001b[38;5;241m*\u001b[39mkwargs):\n\u001b[0;32m   1472\u001b[0m     \u001b[38;5;28;01mif\u001b[39;00m data \u001b[38;5;129;01mis\u001b[39;00m \u001b[38;5;28;01mNone\u001b[39;00m:\n\u001b[1;32m-> 1473\u001b[0m         \u001b[38;5;28;01mreturn\u001b[39;00m func(\n\u001b[0;32m   1474\u001b[0m             ax,\n\u001b[0;32m   1475\u001b[0m             \u001b[38;5;241m*\u001b[39m\u001b[38;5;28mmap\u001b[39m(sanitize_sequence, args),\n\u001b[0;32m   1476\u001b[0m             \u001b[38;5;241m*\u001b[39m\u001b[38;5;241m*\u001b[39m{k: sanitize_sequence(v) \u001b[38;5;28;01mfor\u001b[39;00m k, v \u001b[38;5;129;01min\u001b[39;00m kwargs\u001b[38;5;241m.\u001b[39mitems()})\n\u001b[0;32m   1478\u001b[0m     bound \u001b[38;5;241m=\u001b[39m new_sig\u001b[38;5;241m.\u001b[39mbind(ax, \u001b[38;5;241m*\u001b[39margs, \u001b[38;5;241m*\u001b[39m\u001b[38;5;241m*\u001b[39mkwargs)\n\u001b[0;32m   1479\u001b[0m     auto_label \u001b[38;5;241m=\u001b[39m (bound\u001b[38;5;241m.\u001b[39marguments\u001b[38;5;241m.\u001b[39mget(label_namer)\n\u001b[0;32m   1480\u001b[0m                   \u001b[38;5;129;01mor\u001b[39;00m bound\u001b[38;5;241m.\u001b[39mkwargs\u001b[38;5;241m.\u001b[39mget(label_namer))\n",
      "File \u001b[1;32m~\\anaconda3\\Lib\\site-packages\\matplotlib\\axes\\_axes.py:4787\u001b[0m, in \u001b[0;36mAxes.scatter\u001b[1;34m(self, x, y, s, c, marker, cmap, norm, vmin, vmax, alpha, linewidths, edgecolors, plotnonfinite, **kwargs)\u001b[0m\n\u001b[0;32m   4785\u001b[0m y \u001b[38;5;241m=\u001b[39m np\u001b[38;5;241m.\u001b[39mma\u001b[38;5;241m.\u001b[39mravel(y)\n\u001b[0;32m   4786\u001b[0m \u001b[38;5;28;01mif\u001b[39;00m x\u001b[38;5;241m.\u001b[39msize \u001b[38;5;241m!=\u001b[39m y\u001b[38;5;241m.\u001b[39msize:\n\u001b[1;32m-> 4787\u001b[0m     \u001b[38;5;28;01mraise\u001b[39;00m \u001b[38;5;167;01mValueError\u001b[39;00m(\u001b[38;5;124m\"\u001b[39m\u001b[38;5;124mx and y must be the same size\u001b[39m\u001b[38;5;124m\"\u001b[39m)\n\u001b[0;32m   4789\u001b[0m \u001b[38;5;28;01mif\u001b[39;00m s \u001b[38;5;129;01mis\u001b[39;00m \u001b[38;5;28;01mNone\u001b[39;00m:\n\u001b[0;32m   4790\u001b[0m     s \u001b[38;5;241m=\u001b[39m (\u001b[38;5;241m20\u001b[39m \u001b[38;5;28;01mif\u001b[39;00m mpl\u001b[38;5;241m.\u001b[39mrcParams[\u001b[38;5;124m'\u001b[39m\u001b[38;5;124m_internal.classic_mode\u001b[39m\u001b[38;5;124m'\u001b[39m] \u001b[38;5;28;01melse\u001b[39;00m\n\u001b[0;32m   4791\u001b[0m          mpl\u001b[38;5;241m.\u001b[39mrcParams[\u001b[38;5;124m'\u001b[39m\u001b[38;5;124mlines.markersize\u001b[39m\u001b[38;5;124m'\u001b[39m] \u001b[38;5;241m*\u001b[39m\u001b[38;5;241m*\u001b[39m \u001b[38;5;241m2.0\u001b[39m)\n",
      "\u001b[1;31mValueError\u001b[0m: x and y must be the same size"
     ]
    },
    {
     "data": {
      "image/png": "[encoded data removed]",
      "text/plain": [
       "<Figure size 640x480 with 1 Axes>"
      ]
     },
     "metadata": {},
     "output_type": "display_data"
    }
   ],
   "source": [
    "plt.scatter(x_train, y_train ,color=\"red\")\n",
    "plt.plot(x_train, lin_reg.predict(x_train), color=\"blue\")\n",
    "plt.title(\"SAT vs Final Year CGPA\")\n",
    "plt.xlabel(\"Final Year CGPA\")\n",
    "plt.ylabel(\"SAT\")\n",
    "plt.show()"
   ]
  },
  {
   "cell_type": "code",
   "execution_count": null,
   "id": "6f9610f1-6e42-4995-ad7c-32d02bc6e259",
   "metadata": {},
   "outputs": [],
   "source": []
  }
 ],
 "metadata": {
  "kernelspec": {
   "display_name": "Python 3 (ipykernel)",
   "language": "python",
   "name": "python3"
  },
  "language_info": {
   "codemirror_mode": {
    "name": "ipython",
    "version": 3
   },
   "file_extension": ".py",
   "mimetype": "text/x-python",
   "name": "python",
   "nbconvert_exporter": "python",
   "pygments_lexer": "ipython3",
   "version": "3.11.5"
  }
 },
 "nbformat": 4,
 "nbformat_minor": 5
}
